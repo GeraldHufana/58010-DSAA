{
  "nbformat": 4,
  "nbformat_minor": 0,
  "metadata": {
    "colab": {
      "provenance": [],
      "authorship_tag": "ABX9TyPypYMHDPKHBmIDEOWzWjDI",
      "include_colab_link": true
    },
    "kernelspec": {
      "name": "python3",
      "display_name": "Python 3"
    },
    "language_info": {
      "name": "python"
    }
  },
  "cells": [
    {
      "cell_type": "markdown",
      "metadata": {
        "id": "view-in-github",
        "colab_type": "text"
      },
      "source": [
        "<a href=\"https://colab.research.google.com/github/GeraldHufana/58010-DSAA/blob/main/ARRAY.ipynb\" target=\"_parent\"><img src=\"https://colab.research.google.com/assets/colab-badge.svg\" alt=\"Open In Colab\"/></a>"
      ]
    },
    {
      "cell_type": "code",
      "execution_count": null,
      "metadata": {
        "id": "Xq4iIjgwt3tZ"
      },
      "outputs": [],
      "source": [
        "#accessing the elements in the array\n",
        "\n",
        "int arr [4] = {\"crocodile\", \"elephant\", \"t rex\", \"barney\"}\n",
        "arr [0] = 0\n",
        "arr [1] = 1\n",
        "arr [2] = 2\n",
        "arr [3] = 3\n",
        "\n",
        "print(3)\n"
      ]
    },
    {
      "cell_type": "code",
      "source": [
        "#modifying  the elements in the array\n",
        "\n",
        "color = [\"yellow\", \"blue\", \"green\"]\n",
        "color[0]= \"green\"\n",
        "print(0)"
      ],
      "metadata": {
        "colab": {
          "base_uri": "https://localhost:8080/"
        },
        "id": "M7OZilkdwJ6_",
        "outputId": "e0407487-d0c1-4b09-f037-e749c04fff0c"
      },
      "execution_count": 5,
      "outputs": [
        {
          "output_type": "stream",
          "name": "stdout",
          "text": [
            "0\n"
          ]
        }
      ]
    },
    {
      "cell_type": "code",
      "source": [
        "animal = [\"crocodile\", \"elephant\", \"barney\"]\n",
        "x = animal[2]\n",
        "print(x)\n"
      ],
      "metadata": {
        "colab": {
          "base_uri": "https://localhost:8080/"
        },
        "id": "Isq3DcUouxQ7",
        "outputId": "1f9d7821-5dab-4add-9893-ce2b87e1917b"
      },
      "execution_count": 4,
      "outputs": [
        {
          "output_type": "stream",
          "name": "stdout",
          "text": [
            "barney\n"
          ]
        }
      ]
    },
    {
      "cell_type": "code",
      "source": [
        "# length of array\n",
        "\n",
        "animal = [\"cat\", \"dog\", \"fish\"]\n",
        "x = len(animal)\n",
        "print(x)\n"
      ],
      "metadata": {
        "colab": {
          "base_uri": "https://localhost:8080/"
        },
        "id": "3_zU1crDyoka",
        "outputId": "8b5cafc4-189b-472a-bea4-f4046bfd591c"
      },
      "execution_count": 30,
      "outputs": [
        {
          "output_type": "stream",
          "name": "stdout",
          "text": [
            "3\n"
          ]
        }
      ]
    },
    {
      "cell_type": "code",
      "source": [
        "#looping array elements\n",
        "\n",
        "animal = [\"crocodile\", \"elephant\", \"barney\"]\n",
        "for x in animal:\n",
        "  print(x)"
      ],
      "metadata": {
        "colab": {
          "base_uri": "https://localhost:8080/"
        },
        "id": "tVRyfuP5xHSe",
        "outputId": "be8597c7-ac77-40cf-ff34-f3a27fcc2657"
      },
      "execution_count": 9,
      "outputs": [
        {
          "output_type": "stream",
          "name": "stdout",
          "text": [
            "crocodile\n",
            "elephant\n",
            "barney\n"
          ]
        }
      ]
    },
    {
      "cell_type": "code",
      "source": [
        "#adding element in the array\n",
        "\n",
        "animal = [\"crocodanile\", \"elephant\", \"barney\"]\n",
        "animal.append(\"t rex\")\n",
        "print(animal)"
      ],
      "metadata": {
        "colab": {
          "base_uri": "https://localhost:8080/"
        },
        "id": "NOh8gDl5xrRL",
        "outputId": "57c193ec-6097-430a-85f9-7ebb2e11486c"
      },
      "execution_count": 10,
      "outputs": [
        {
          "output_type": "stream",
          "name": "stdout",
          "text": [
            "['crocodile', 'elephant', 'barney', 't rex']\n"
          ]
        }
      ]
    },
    {
      "cell_type": "code",
      "source": [
        "#removing element in the array\n",
        "\n",
        "animal = [\"crocodile\", \"elephant\", \"barney\"]\n",
        "animal.pop(2)\n",
        "print(animal)"
      ],
      "metadata": {
        "colab": {
          "base_uri": "https://localhost:8080/"
        },
        "id": "WN1AO89syFnf",
        "outputId": "0d1abf9c-0c6f-453b-f399-510c11580df4"
      },
      "execution_count": 13,
      "outputs": [
        {
          "output_type": "stream",
          "name": "stdout",
          "text": [
            "['crocodile', 'elephant']\n"
          ]
        }
      ]
    },
    {
      "cell_type": "code",
      "source": [
        "animal = [\"cat\", \"fish\", \"dog\"]\n",
        "animal.pop(0)\n",
        "animal.append(\"monkey\")\n",
        "print(animal)\n",
        "x = len(animal)\n",
        "print(animal[1])"
      ],
      "metadata": {
        "colab": {
          "base_uri": "https://localhost:8080/"
        },
        "id": "0U2tfofnzriY",
        "outputId": "0a895c17-e853-46ba-8f5d-5684ee306fdb"
      },
      "execution_count": 24,
      "outputs": [
        {
          "output_type": "stream",
          "name": "stdout",
          "text": [
            "['fish', 'dog', 'monkey']\n",
            "dog\n"
          ]
        }
      ]
    },
    {
      "cell_type": "code",
      "source": [
        "animal = [\"monkey\", \"fish\", \"dog\", \"cat\"]\n",
        "animal.sort()\n",
        "print(\"ascending order\",animal)"
      ],
      "metadata": {
        "colab": {
          "base_uri": "https://localhost:8080/"
        },
        "id": "XGpwlpok2FwS",
        "outputId": "ca962967-b79e-414e-f09a-f10849d55a6b"
      },
      "execution_count": 33,
      "outputs": [
        {
          "output_type": "stream",
          "name": "stdout",
          "text": [
            "ascending order ['cat', 'dog', 'fish', 'monkey']\n"
          ]
        }
      ]
    },
    {
      "cell_type": "code",
      "source": [
        "from typing import Reversible\n",
        "animal = [\"monkey\", \"fish\", \"dog\", \"cat\"]\n",
        "animal.sort(reverse=True)\n",
        "print(\"descending order\", animal)"
      ],
      "metadata": {
        "colab": {
          "base_uri": "https://localhost:8080/"
        },
        "id": "6k3UMjhp3QzA",
        "outputId": "46bde816-c721-49f2-d4b7-3076596f610e"
      },
      "execution_count": 38,
      "outputs": [
        {
          "output_type": "stream",
          "name": "stdout",
          "text": [
            "descending order ['monkey', 'fish', 'dog', 'cat']\n"
          ]
        }
      ]
    },
    {
      "cell_type": "code",
      "source": [],
      "metadata": {
        "id": "E2lBPvJG4Mc9"
      },
      "execution_count": null,
      "outputs": []
    }
  ]
}